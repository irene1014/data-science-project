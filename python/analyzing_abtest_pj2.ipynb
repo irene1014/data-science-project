{
 "cells": [
  {
   "cell_type": "code",
   "execution_count": null,
   "metadata": {},
   "outputs": [],
   "source": [
    "import codecademylib\n",
    "import pandas as pd\n",
    "\n",
    "ad_clicks = pd.read_csv('ad_clicks.csv')\n",
    "\n",
    "#Q2.How many views (i.e., rows of the table) came from each utm_source?\n",
    "ad_clicks.groupby('utm_source').user_id.count()\n",
    "\n",
    "#Q3.Create a new column called is_click, which is True if ad_click_timestamp is not null and False otherwise\n",
    "k=lambda x:True if x.isnull() else False\n",
    "ad_clicks['is_click']=ad_clicks.ad_click_timestamp.isnull()\n",
    "print(ad_clicks.head(10))\n",
    "\n",
    "#Q4. Start by grouping by utm_source and is_click and counting the number of user_id‘s in each of those groups. Save your answer to the variable clicks_by_source.\n",
    "clicks_by_source=ad_clicks.groupby(['utm_source','is_click']).user_id.count().reset_index()\n",
    "\n",
    "#Q5.Now let’s pivot the data so that the columns are is_click (either True or False), the index is utm_source, and the values are user_id\n",
    "clicks_pivot=clicks_by_source.pivot(\n",
    "columns='is_click',index='utm_source',values='user_id').reset_index()\n",
    "#Q6. Create a new column in clicks_pivot called percent_clicked which is equal to the percent of users who clicked on the ad from each utm_source.\n",
    "clicks_pivot['percent_clicked']=clicks_by_source.user_id/sum(clicks_by_source.user_id)\n",
    "print(clicks_pivot)\n",
    "\n",
    "#Q7. Were approximately the same number of people shown both adds?\n",
    "print(ad_clicks.groupby('experimental_group').user_id.count())\n",
    "\n",
    "#Q8. Using the column is_click that we defined earlier, check to see if a greater percentage of users clicked on Ad A or Ad B.\n",
    "dt1=ad_clicks.groupby(['experimental_group','is_click']).user_id.count().reset_index()\n",
    "e_pivot=dt1.pivot(\n",
    "columns='is_click',index='experimental_group',values='user_id').reset_index()\n",
    "e_pivot['percentage']=dt1.user_id/sum(dt1.user_id)\n",
    "print(e_pivot)\n",
    "\n",
    "#Q9. Start by creating two DataFrames: a_clicks and b_clicks, which contain only the results for A group and B group, respectively\n",
    "a_clicks=ad_clicks.loc[ad_clicks.experimental_group=='A']\n",
    "b_clicks=ad_clicks.loc[ad_clicks.experimental_group=='B']\n",
    "\n",
    "#Q10. For each group (a_clicks and b_clicks), calculate the percent of users who clicked on the ad by day.\n",
    "print(a_clicks.groupby('day').user_id.count()/len(a_clicks))\n",
    "print(b_clicks.groupby('day').user_id.count()/len(b_clicks))\n",
    "\n",
    "\n",
    "\n",
    "\n",
    "\n"
   ]
  }
 ],
 "metadata": {
  "kernelspec": {
   "display_name": "Python 3",
   "language": "python",
   "name": "python3"
  },
  "language_info": {
   "codemirror_mode": {
    "name": "ipython",
    "version": 3
   },
   "file_extension": ".py",
   "mimetype": "text/x-python",
   "name": "python",
   "nbconvert_exporter": "python",
   "pygments_lexer": "ipython3",
   "version": "3.7.3"
  }
 },
 "nbformat": 4,
 "nbformat_minor": 2
}
