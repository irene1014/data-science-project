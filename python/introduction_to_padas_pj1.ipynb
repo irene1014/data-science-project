{
 "cells": [
  {
   "cell_type": "code",
   "execution_count": null,
   "metadata": {},
   "outputs": [],
   "source": [
    "import codecademylib\n",
    "import pandas as pd \n",
    "\n",
    "dt=pd.read_csv(\"inventory.csv\")\n",
    "dt.head(10)\n",
    "staten_island=dt.head(10)\n",
    "product_request= staten_island.product_description\n",
    "seed_request= dt.loc[(dt['location']=='Brooklyn')&(dt['product_type']=='seeds')]\n",
    "\n",
    "k= lambda x:True if x>0  else False\n",
    "#k(dt['quantity'])\n",
    "dt['in_stock']=dt['quantity'].apply(k)\n",
    "dt['total_value']=dt.price*dt.quantity\n",
    "\n",
    "print(dt.head(5))\n",
    "#dt['full_description']=dt.apply(combine_lambda)\n",
    "\n",
    "combine_lambda = lambda row: \\\n",
    "    '{} - {}'.format(row.product_type,\n",
    "                     row.product_description)\n",
    "dt['full_description']=dt.apply(combine_lambda, axis = 1)\n",
    "dt.head(5)\n",
    "\n",
    "\n"
   ]
  }
 ],
 "metadata": {
  "kernelspec": {
   "display_name": "Python 3",
   "language": "python",
   "name": "python3"
  },
  "language_info": {
   "codemirror_mode": {
    "name": "ipython",
    "version": 3
   },
   "file_extension": ".py",
   "mimetype": "text/x-python",
   "name": "python",
   "nbconvert_exporter": "python",
   "pygments_lexer": "ipython3",
   "version": "3.7.3"
  }
 },
 "nbformat": 4,
 "nbformat_minor": 2
}
