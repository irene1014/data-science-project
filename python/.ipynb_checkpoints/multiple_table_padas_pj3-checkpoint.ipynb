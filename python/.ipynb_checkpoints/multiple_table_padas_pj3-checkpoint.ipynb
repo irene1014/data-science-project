{
 "cells": [
  {
   "cell_type": "code",
   "execution_count": null,
   "metadata": {},
   "outputs": [],
   "source": [
    "import codecademylib\n",
    "import pandas as pd\n",
    "\n",
    "visits = pd.read_csv('visits.csv',\n",
    "                     parse_dates=[1])\n",
    "cart = pd.read_csv('cart.csv',\n",
    "                   parse_dates=[1])\n",
    "checkout = pd.read_csv('checkout.csv',\n",
    "                       parse_dates=[1])\n",
    "purchase = pd.read_csv('purchase.csv',\n",
    "                       parse_dates=[1])\n",
    "\n",
    "#Q2.Combine visits and cart using a left merge.\n",
    "dt1=pd.merge(visits, cart,how='left')\n",
    "print(dt1.head(5))\n",
    "\n",
    "#Q3.How long is your merged DataFrame?\n",
    "print(len(dt1))#2052 \n",
    "\n",
    "#Q4. How many of the timestamps are null for the column cart_time?\n",
    "print(len(dt1.loc[dt1.cart_time.isnull()]))\n",
    "\n",
    "#Q5. What percent of users who visited Cool T-Shirts Inc. ended up not placing a t-shirt in their cart?\n",
    "print(round(1652./2052,2)*100)\n",
    "\n",
    "#Q6.Repeat the left merge for cart and checkout and count null values. What percentage of users put items in their cart, but did not proceed to checkout?\n",
    "print(pd.merge(cart,checkout,how='left').isnull().sum())\n",
    "print(round(126./476,2)*100)\n",
    "\n",
    "\n",
    "#Q7. Merge all four steps of the funnel, in order, using a series of left merges\n",
    "dt2=pd.merge(dt1,checkout,how='left')\n",
    "all_data=pd.merge(dt2,purchase,how='left')\n",
    "print(all_data.head(5))\n",
    "#print(all_data.isnull().sum())\n",
    "\n",
    "#Q8. What percentage of users proceeded to checkout, but did not purchase a t-shirt?\n",
    "print(round((1898.-1778.)/(len(all_data)-1778.),2)*100)\n",
    "\n",
    "#Q9. Which step of the funnel is weakest (i.e., has the highest percentage of users not completing it)?\n",
    "#A: The percent of users who visited Cool T-Shirts ended up not placing a t-shirt in their cart.\n",
    "\n",
    "#Q10 & Q11\n",
    "all_data['time_to_purchase'] = \\\n",
    "    all_data.purchase_time - \\\n",
    "    all_data.visit_time\n",
    "print(all_data.time_to_purchase)\n",
    "#Q12.Calculate the average time to purchase using the following code\n",
    "all_data1=all_data.dropna()\n",
    "print(all_data1.time_to_purchase.mean())"
   ]
  }
 ],
 "metadata": {
  "kernelspec": {
   "display_name": "Python 3",
   "language": "python",
   "name": "python3"
  },
  "language_info": {
   "codemirror_mode": {
    "name": "ipython",
    "version": 3
   },
   "file_extension": ".py",
   "mimetype": "text/x-python",
   "name": "python",
   "nbconvert_exporter": "python",
   "pygments_lexer": "ipython3",
   "version": "3.7.3"
  }
 },
 "nbformat": 4,
 "nbformat_minor": 2
}
